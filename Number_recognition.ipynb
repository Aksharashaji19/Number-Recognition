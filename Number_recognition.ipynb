{
 "cells": [
  {
   "cell_type": "code",
   "execution_count": 1,
   "id": "4bbf6e91",
   "metadata": {},
   "outputs": [
    {
     "name": "stdout",
     "output_type": "stream",
     "text": [
      "Epoch 1/10\n",
      "1500/1500 [==============================] - 7s 4ms/step - loss: 0.2750 - accuracy: 0.9198 - val_loss: 0.1422 - val_accuracy: 0.9601\n",
      "Epoch 2/10\n",
      "1500/1500 [==============================] - 4s 3ms/step - loss: 0.1123 - accuracy: 0.9663 - val_loss: 0.1365 - val_accuracy: 0.9567\n",
      "Epoch 3/10\n",
      "1500/1500 [==============================] - 4s 2ms/step - loss: 0.0785 - accuracy: 0.9756 - val_loss: 0.1039 - val_accuracy: 0.9690\n",
      "Epoch 4/10\n",
      "1500/1500 [==============================] - 4s 3ms/step - loss: 0.0578 - accuracy: 0.9820 - val_loss: 0.1087 - val_accuracy: 0.9695\n",
      "Epoch 5/10\n",
      "1500/1500 [==============================] - 4s 3ms/step - loss: 0.0459 - accuracy: 0.9853 - val_loss: 0.1192 - val_accuracy: 0.9651\n",
      "Epoch 6/10\n",
      "1500/1500 [==============================] - 4s 2ms/step - loss: 0.0354 - accuracy: 0.9885 - val_loss: 0.0964 - val_accuracy: 0.9739\n",
      "Epoch 7/10\n",
      "1500/1500 [==============================] - 4s 2ms/step - loss: 0.0300 - accuracy: 0.9901 - val_loss: 0.0900 - val_accuracy: 0.9765\n",
      "Epoch 8/10\n",
      "1500/1500 [==============================] - 4s 2ms/step - loss: 0.0268 - accuracy: 0.9912 - val_loss: 0.1028 - val_accuracy: 0.9744\n",
      "Epoch 9/10\n",
      "1500/1500 [==============================] - 4s 3ms/step - loss: 0.0218 - accuracy: 0.9926 - val_loss: 0.1034 - val_accuracy: 0.9755\n",
      "Epoch 10/10\n",
      "1500/1500 [==============================] - 4s 2ms/step - loss: 0.0189 - accuracy: 0.9936 - val_loss: 0.1101 - val_accuracy: 0.9748\n",
      "313/313 [==============================] - 1s 1ms/step - loss: 0.0901 - accuracy: 0.9761\n",
      "Test accuracy: 0.9761000275611877\n",
      "1/1 [==============================] - 0s 64ms/step\n",
      "Predicted digit: 3\n"
     ]
    }
   ],
   "source": [
    "import numpy as np\n",
    "import tensorflow as tf\n",
    "from tensorflow.keras.datasets import mnist\n",
    "from tensorflow.keras.models import Sequential\n",
    "from tensorflow.keras.layers import Dense, Flatten\n",
    "\n",
    "\n",
    "# Step 2: Load the MNIST dataset\n",
    "(train_images, train_labels), (test_images, test_labels) = mnist.load_data()\n",
    "\n",
    "# Step 3: Preprocess the data\n",
    "train_images = train_images.astype('float32') / 255.0\n",
    "test_images = test_images.astype('float32') / 255.0\n",
    "train_images = train_images.reshape((-1, 784))\n",
    "test_images = test_images.reshape((-1, 784))\n",
    "\n",
    "# Step 4: Create the neural network model\n",
    "model = Sequential()\n",
    "model.add(Dense(128, activation='relu', input_shape=(784,)))\n",
    "model.add(Dense(64, activation='relu'))\n",
    "model.add(Dense(10, activation='softmax'))\n",
    "\n",
    "# Step 5: Compile the model\n",
    "model.compile(optimizer='adam', loss='sparse_categorical_crossentropy', metrics=['accuracy'])\n",
    "\n",
    "# Step 6: Train the model\n",
    "model.fit(train_images, train_labels, epochs=10, batch_size=32, validation_split=0.2)\n",
    "\n",
    "# Step 7: Evaluate the model on the test set\n",
    "test_loss, test_accuracy = model.evaluate(test_images, test_labels)\n",
    "print(f'Test accuracy: {test_accuracy}')\n",
    "\n",
    "# Step 8: Perform predictions on new images\n",
    "# Replace 'new_image_path.png' with the path to your own handwritten digit image\n",
    "new_image = tf.keras.preprocessing.image.load_img('3_Handwritten_Digit.jpg', color_mode='grayscale', target_size=(28, 28))\n",
    "new_image = tf.keras.preprocessing.image.img_to_array(new_image)\n",
    "new_image = new_image.reshape((1, 784)) / 255.0\n",
    "\n",
    "prediction = model.predict(new_image)\n",
    "predicted_label = np.argmax(prediction[0])\n",
    "print(f'Predicted digit: {predicted_label}')"
   ]
  },
  {
   "cell_type": "code",
   "execution_count": null,
   "id": "34343f0f",
   "metadata": {},
   "outputs": [],
   "source": []
  }
 ],
 "metadata": {
  "kernelspec": {
   "display_name": "Python 3 (ipykernel)",
   "language": "python",
   "name": "python3"
  },
  "language_info": {
   "codemirror_mode": {
    "name": "ipython",
    "version": 3
   },
   "file_extension": ".py",
   "mimetype": "text/x-python",
   "name": "python",
   "nbconvert_exporter": "python",
   "pygments_lexer": "ipython3",
   "version": "3.11.3"
  }
 },
 "nbformat": 4,
 "nbformat_minor": 5
}
